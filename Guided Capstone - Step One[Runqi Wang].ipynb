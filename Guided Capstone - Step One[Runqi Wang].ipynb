{
 "cells": [
  {
   "cell_type": "markdown",
   "id": "067ecb35",
   "metadata": {},
   "source": [
    "# Guided Capstone - Step One[Runqi Wang]\n",
    "\n",
    "## Problem context \n",
    "Big Mountain Resort, a ski resort located in Montana, offers spectacular views of Glacier National Park and Flathead National Forest, with access to 105 trails. Every year about 350000 people ski or snowboard at Big Mountain. Recently, Big Mountain Resort installed an additional chair lift to help increase the distribution of visitors across the mountain. In this case, their operating costs increased by $1540000 this season. Their ticket price is based on the average market price, which does not show the value of some important facilities more than others. So they need to change their price strategy to maximize their benefits, or some other changes to cus costs without undermining the ticket price\n",
    "\n",
    "## Criteria for a successful solution\n",
    "Success this project = increase Big Mountain Resort profits\n",
    "\n",
    "## Scope of the solution space\n",
    "We can build two plans. One is with changing ticket prices including normal tickets and premium tickets. Another one is with changing facility usage like opening time, maintenance plan, etc..\n",
    "\n",
    "## Constraints within the solution space\n",
    "There won’t be a lot of data for testing, because every ski resort has its own unique situation, like location, chairlifts, etc..\n",
    "\n",
    "## Stakeholders involved\n",
    "Big Mountain Resort managers\n",
    "Big Mountain Resort owners\n",
    "\n",
    "##Data sources required\n",
    "Data from pdf"
   ]
  },
  {
   "cell_type": "code",
   "execution_count": null,
   "id": "eafae35b",
   "metadata": {},
   "outputs": [],
   "source": []
  }
 ],
 "metadata": {
  "kernelspec": {
   "display_name": "Python 3 (ipykernel)",
   "language": "python",
   "name": "python3"
  },
  "language_info": {
   "codemirror_mode": {
    "name": "ipython",
    "version": 3
   },
   "file_extension": ".py",
   "mimetype": "text/x-python",
   "name": "python",
   "nbconvert_exporter": "python",
   "pygments_lexer": "ipython3",
   "version": "3.9.7"
  }
 },
 "nbformat": 4,
 "nbformat_minor": 5
}
